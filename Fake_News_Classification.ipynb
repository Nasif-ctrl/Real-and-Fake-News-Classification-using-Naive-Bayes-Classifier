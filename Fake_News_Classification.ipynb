{
  "cells": [
    {
      "cell_type": "markdown",
      "source": [
        "Importing Libraries and Mounting on Google Drive"
      ],
      "metadata": {
        "id": "xY14TIOdk98I"
      },
      "id": "xY14TIOdk98I"
    },
    {
      "cell_type": "code",
      "source": [
        "# Importing required libraries\n",
        "import os\n",
        "import pandas as pd\n",
        "from google.colab import drive\n",
        "\n",
        "# Mounting Google Drive to access files\n",
        "drive.mount('/content/drive')"
      ],
      "metadata": {
        "id": "WDNpXleOk6f_"
      },
      "id": "WDNpXleOk6f_",
      "execution_count": null,
      "outputs": []
    },
    {
      "cell_type": "markdown",
      "source": [
        "Loading the Dataset"
      ],
      "metadata": {
        "id": "GVm-_BXNBRot"
      },
      "id": "GVm-_BXNBRot"
    },
    {
      "cell_type": "code",
      "source": [
        "# Defining the path to the dataset\n",
        "data_root = ('/content/drive/MyDrive/Colab Notebooks/Project 4')  # This path will need to be modified based on the dataset's location\n",
        "dataset_path = os.path.join(data_root, 'Data_fake_or_real_news.csv')\n",
        "\n",
        "# Reading the dataset into a pandas DataFrame\n",
        "df = pd.read_csv(dataset_path)\n",
        "df"
      ],
      "metadata": {
        "id": "R8zlPX_tlHNq"
      },
      "id": "R8zlPX_tlHNq",
      "execution_count": null,
      "outputs": []
    },
    {
      "cell_type": "code",
      "execution_count": null,
      "id": "e4f5ae86",
      "metadata": {
        "id": "e4f5ae86"
      },
      "outputs": [],
      "source": [
        "# Checking the distribution of labels (real or fake)\n",
        "df.label.value_counts()"
      ]
    },
    {
      "cell_type": "code",
      "source": [
        "# Dropping irrelevant columns that won't help in classification\n",
        "df.drop(['id', 'title'], axis=1, inplace=True)"
      ],
      "metadata": {
        "id": "OCIAmSYtELv7"
      },
      "id": "OCIAmSYtELv7",
      "execution_count": null,
      "outputs": []
    },
    {
      "cell_type": "code",
      "execution_count": null,
      "id": "6b665e00",
      "metadata": {
        "id": "6b665e00"
      },
      "outputs": [],
      "source": [
        "df"
      ]
    },
    {
      "cell_type": "markdown",
      "id": "c14da82f",
      "metadata": {
        "id": "c14da82f"
      },
      "source": [
        "<h3>Train test split</h3>"
      ]
    },
    {
      "cell_type": "code",
      "execution_count": null,
      "id": "55c57d7e",
      "metadata": {
        "id": "55c57d7e"
      },
      "outputs": [],
      "source": [
        "# Splitting the dataset into training and testing sets (80% train, 20% test)\n",
        "from sklearn.model_selection import train_test_split\n",
        "X_train, X_test, y_train, y_test = train_test_split(df.text, df.label, test_size=0.2, random_state=25)"
      ]
    },
    {
      "cell_type": "code",
      "execution_count": null,
      "id": "ae07ed88",
      "metadata": {
        "id": "ae07ed88"
      },
      "outputs": [],
      "source": [
        "X_test"
      ]
    },
    {
      "cell_type": "code",
      "execution_count": null,
      "id": "2b8afdd0",
      "metadata": {
        "id": "2b8afdd0"
      },
      "outputs": [],
      "source": [
        "X_train"
      ]
    },
    {
      "cell_type": "code",
      "execution_count": null,
      "id": "425d18a6",
      "metadata": {
        "id": "425d18a6"
      },
      "outputs": [],
      "source": [
        "y_train"
      ]
    },
    {
      "cell_type": "code",
      "execution_count": null,
      "id": "199cf713",
      "metadata": {
        "id": "199cf713"
      },
      "outputs": [],
      "source": [
        "# Checking data structure\n",
        "X_train.values"
      ]
    },
    {
      "cell_type": "code",
      "execution_count": null,
      "id": "249b01ce",
      "metadata": {
        "id": "249b01ce"
      },
      "outputs": [],
      "source": [
        "X_train.values.shape"
      ]
    },
    {
      "cell_type": "code",
      "execution_count": null,
      "id": "0144b67b",
      "metadata": {
        "scrolled": true,
        "id": "0144b67b"
      },
      "outputs": [],
      "source": [
        "type(X_train.values)"
      ]
    },
    {
      "cell_type": "markdown",
      "id": "5ef2b07c",
      "metadata": {
        "id": "5ef2b07c"
      },
      "source": [
        "# Bag of Words"
      ]
    },
    {
      "cell_type": "code",
      "execution_count": null,
      "id": "33bf7b78",
      "metadata": {
        "id": "33bf7b78"
      },
      "outputs": [],
      "source": [
        "# Initializing CountVectorizer to convert text to bag-of-words representation\n",
        "from sklearn.feature_extraction.text import CountVectorizer\n",
        "countV = CountVectorizer()"
      ]
    },
    {
      "cell_type": "code",
      "execution_count": null,
      "id": "41a212bd",
      "metadata": {
        "id": "41a212bd"
      },
      "outputs": [],
      "source": [
        "v = CountVectorizer()\n",
        "\n",
        "# Fitting and transforming training data into vector\n",
        "X_train_cv = v.fit_transform(X_train)\n",
        "X_train_cv"
      ]
    },
    {
      "cell_type": "code",
      "execution_count": null,
      "id": "7c51bd2f",
      "metadata": {
        "id": "7c51bd2f"
      },
      "outputs": [],
      "source": [
        "# Converting sparse matrix to array\n",
        "X_train_cv.toarray()"
      ]
    },
    {
      "cell_type": "code",
      "execution_count": null,
      "id": "e3846715",
      "metadata": {
        "id": "e3846715"
      },
      "outputs": [],
      "source": [
        "# Viewing the vector representation of the first training sample\n",
        "X_train_cv.shape"
      ]
    },
    {
      "cell_type": "code",
      "execution_count": null,
      "id": "3e003e1f",
      "metadata": {
        "id": "3e003e1f"
      },
      "outputs": [],
      "source": [
        "X_train_cv[0].toarray()   # Number of columns = number of unique words"
      ]
    },
    {
      "cell_type": "code",
      "execution_count": null,
      "id": "12f55cc1",
      "metadata": {
        "id": "12f55cc1"
      },
      "outputs": [],
      "source": [
        "# Getting the vocabulary list\n",
        "v.get_feature_names_out()"
      ]
    },
    {
      "cell_type": "code",
      "execution_count": null,
      "id": "cd92b82f",
      "metadata": {
        "id": "cd92b82f"
      },
      "outputs": [],
      "source": [
        "# Creating a DataFrame from the vectorized training data\n",
        "Train_df=pd.DataFrame(X_train_cv.toarray(), columns=v.get_feature_names_out())\n",
        "Train_df"
      ]
    },
    {
      "cell_type": "code",
      "execution_count": null,
      "id": "de9f5276",
      "metadata": {
        "id": "de9f5276"
      },
      "outputs": [],
      "source": [
        "# Setting display option to show all columns in DataFrame\n",
        "pd.set_option('display.max_columns', None)"
      ]
    },
    {
      "cell_type": "code",
      "execution_count": null,
      "id": "6805ee4b",
      "metadata": {
        "id": "6805ee4b"
      },
      "outputs": [],
      "source": [
        "Train_df"
      ]
    },
    {
      "cell_type": "code",
      "execution_count": null,
      "id": "7ed0a094",
      "metadata": {
        "id": "7ed0a094"
      },
      "outputs": [],
      "source": [
        "# Viewing vocabulary mapping (word to index)\n",
        "v.vocabulary_"
      ]
    },
    {
      "cell_type": "markdown",
      "id": "e6ea444a",
      "metadata": {
        "id": "e6ea444a"
      },
      "source": [
        "<h3>Train the naive bayes model</h3>"
      ]
    },
    {
      "cell_type": "code",
      "execution_count": null,
      "id": "65b97e9b",
      "metadata": {
        "id": "65b97e9b"
      },
      "outputs": [],
      "source": [
        "y_train"
      ]
    },
    {
      "cell_type": "code",
      "execution_count": null,
      "id": "bf02cecc",
      "metadata": {
        "id": "bf02cecc"
      },
      "outputs": [],
      "source": [
        "# Initializing and training the Naive Bayes classifier\n",
        "from sklearn.naive_bayes import MultinomialNB\n",
        "model = MultinomialNB()\n",
        "model.fit(Train_df, y_train)"
      ]
    },
    {
      "cell_type": "code",
      "execution_count": null,
      "id": "d2d9c700",
      "metadata": {
        "id": "d2d9c700"
      },
      "outputs": [],
      "source": [
        "X_test    # Need to convert the test data to bag of words also"
      ]
    },
    {
      "cell_type": "markdown",
      "id": "101b8b8d",
      "metadata": {
        "id": "101b8b8d"
      },
      "source": [
        "<h3>Evaluate Performance</h3>"
      ]
    },
    {
      "cell_type": "code",
      "execution_count": null,
      "id": "9511722f",
      "metadata": {
        "id": "9511722f"
      },
      "outputs": [],
      "source": [
        "# Vectorizing the test data using the same vocabulary\n",
        "X_test_cv = v.transform(X_test)"
      ]
    },
    {
      "cell_type": "code",
      "execution_count": null,
      "id": "535dec1e",
      "metadata": {
        "id": "535dec1e"
      },
      "outputs": [],
      "source": [
        "X_test_cv.toarray()"
      ]
    },
    {
      "cell_type": "code",
      "execution_count": null,
      "id": "6450d17a",
      "metadata": {
        "id": "6450d17a"
      },
      "outputs": [],
      "source": [
        "X_test_cv.toarray().shape"
      ]
    },
    {
      "cell_type": "code",
      "execution_count": null,
      "id": "ce093abd",
      "metadata": {
        "id": "ce093abd"
      },
      "outputs": [],
      "source": [
        "# Evaluating the model's accuracy on the test data\n",
        "model.score(X_test_cv, y_test)"
      ]
    },
    {
      "cell_type": "code",
      "execution_count": null,
      "id": "1c0cb441",
      "metadata": {
        "id": "1c0cb441"
      },
      "outputs": [],
      "source": [
        "# Making predictions and printing a performance report\n",
        "from sklearn.metrics import classification_report\n",
        "\n",
        "y_pred = model.predict(X_test_cv)\n",
        "print(classification_report(y_test, y_pred))"
      ]
    }
  ],
  "metadata": {
    "kernelspec": {
      "display_name": "Python 3 (ipykernel)",
      "language": "python",
      "name": "python3"
    },
    "language_info": {
      "codemirror_mode": {
        "name": "ipython",
        "version": 3
      },
      "file_extension": ".py",
      "mimetype": "text/x-python",
      "name": "python",
      "nbconvert_exporter": "python",
      "pygments_lexer": "ipython3",
      "version": "3.11.5"
    },
    "colab": {
      "provenance": []
    }
  },
  "nbformat": 4,
  "nbformat_minor": 5
}